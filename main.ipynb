{
 "cells": [
  {
   "cell_type": "markdown",
   "metadata": {},
   "source": [
    "# Orientações Gerais\n",
    "* Link para API:  https://splegisws.saopaulo.sp.leg.br/ws/ws2.asmx\n",
    "* É necessário que você tenha instalada a biblioteca **requests**"
   ]
  },
  {
   "attachments": {},
   "cell_type": "markdown",
   "metadata": {},
   "source": [
    "# Antes de cada célula é apresentada uma breve descrição do seu objetivo\n",
    "* Carrega as bibliotecas necessárias para executar o código"
   ]
  },
  {
   "cell_type": "code",
   "execution_count": 13,
   "metadata": {},
   "outputs": [],
   "source": [
    "import requests\n",
    "from datetime import datetime\n",
    "import excel as ex"
   ]
  },
  {
   "cell_type": "markdown",
   "metadata": {},
   "source": [
    "* Seta a url base \n",
    "* Seta o ano que será utilizado como base para buscar os projetos propostos"
   ]
  },
  {
   "cell_type": "code",
   "execution_count": 14,
   "metadata": {},
   "outputs": [],
   "source": [
    "url = 'https://splegisws.saopaulo.sp.leg.br/'\n",
    "ano = '2023'"
   ]
  },
  {
   "cell_type": "markdown",
   "metadata": {},
   "source": [
    "* Seta o endpoint que devolve todos os projetos de um determinado ano\n",
    "* Seta o endpoint que devolve os autores dos projetos"
   ]
  },
  {
   "cell_type": "code",
   "execution_count": 15,
   "metadata": {},
   "outputs": [],
   "source": [
    "projetos_por_ano = '/ws/ws2.asmx/ProjetosPorAnoJSON?Ano='+ano\n",
    "projetos_autores = '/ws/ws2.asmx/ProjetosAutoresJSON'\n",
    "r = requests.get(url+projetos_por_ano)\n",
    "projetos_ano = r.json()"
   ]
  },
  {
   "cell_type": "markdown",
   "metadata": {},
   "source": [
    "* Busca os dados dos endpoints citados anteriormente\n",
    "\n",
    "**Obs:** Tempo da última execução: 1m 30s"
   ]
  },
  {
   "cell_type": "code",
   "execution_count": 16,
   "metadata": {},
   "outputs": [],
   "source": [
    "TIPOS_PROJETOS = ('PDL','PL','PLO','PR')\n",
    "rows = []\n",
    "\n",
    "for projeto in projetos_ano:\n",
    "    projeto_filter_dict = {}\n",
    "    if projeto['tipo'] in TIPOS_PROJETOS:\n",
    "        tipo_projeto = projeto['tipo']\n",
    "        numero_projeto = projeto['numero']\n",
    "        ano_projeto = projeto['ano']\n",
    "\n",
    "        query = (f'{projetos_autores}?ano={ano_projeto}&tipo={tipo_projeto}&numero={numero_projeto}')\n",
    "        autores_projeto = requests.get(url+query)\n",
    "        autores_projeto_lista = autores_projeto.json()\n",
    "\n",
    "        for data_autores in autores_projeto_lista:\n",
    "            autores = data_autores['autores']\n",
    "            autor = {}\n",
    "            for autor in autores:\n",
    "                autor['Projeto'] = tipo_projeto+str(numero_projeto)+\"/\"+str(ano_projeto)\n",
    "                data_autores=datetime.strptime(projeto['data'][:10], \"%Y-%m-%d\")\n",
    "                autor['Data'] = \"{}/{}/{}\".format(data_autores.day,data_autores.month,data_autores.year)\n",
    "                autor['Nome Vereador'] = autor['nome']\n",
    "                autor['Ementa'] = projeto['ementa']\n",
    "                autor['Classificação'] = ''\n",
    "                autor.pop('nome') \n",
    "                autor.pop('chave') \n",
    "                rows.append(autor)"
   ]
  },
  {
   "attachments": {},
   "cell_type": "markdown",
   "metadata": {},
   "source": [
    "* Utiliza os dados buscados na etapa anterior para construir uma planilha para cada vereador. As planilhas serão salvas na pasta projetos propostos"
   ]
  },
  {
   "cell_type": "code",
   "execution_count": 17,
   "metadata": {},
   "outputs": [],
   "source": [
    "vereadores = {projeto['Nome Vereador'] for projeto in rows}\n",
    "\n",
    "for vereador in vereadores:\n",
    "    projeto_vereador = []\n",
    "    for projeto in rows:\n",
    "        if projeto['Nome Vereador'] == vereador:\n",
    "            projeto_vereador.append(projeto)\n",
    "    excel = ex.Excel(projeto_vereador,'projetos propostos')\n",
    "    sheet_name = 'sheet_name' \n",
    "    table_name = vereador+'.xlsx' \n",
    "    excel.make_table(table_name, sheet_name)"
   ]
  }
 ],
 "metadata": {
  "kernelspec": {
   "display_name": "Python 3.9.13 ('env': venv)",
   "language": "python",
   "name": "python3"
  },
  "language_info": {
   "codemirror_mode": {
    "name": "ipython",
    "version": 3
   },
   "file_extension": ".py",
   "mimetype": "text/x-python",
   "name": "python",
   "nbconvert_exporter": "python",
   "pygments_lexer": "ipython3",
   "version": "3.11.3"
  },
  "orig_nbformat": 4,
  "vscode": {
   "interpreter": {
    "hash": "6f97785fb71832f3c930c9d86d0e31a665203449458fda0b352089bc9d40fd7a"
   }
  }
 },
 "nbformat": 4,
 "nbformat_minor": 2
}
