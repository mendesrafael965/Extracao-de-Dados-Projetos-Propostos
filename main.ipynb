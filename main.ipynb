{
 "cells": [
  {
   "cell_type": "code",
   "execution_count": 1,
   "metadata": {},
   "outputs": [],
   "source": [
    "# Carrega bibliotecas necessárias para executar o código\n",
    "import requests\n",
    "from datetime import datetime\n",
    "import excel as ex"
   ]
  },
  {
   "cell_type": "code",
   "execution_count": 2,
   "metadata": {},
   "outputs": [],
   "source": [
    "# url base \n",
    "url = 'https://splegisws.saopaulo.sp.leg.br/'\n",
    "\n",
    "# Ano que será utilizado como base para buscar os projetos propostos\n",
    "ano = '2023'"
   ]
  },
  {
   "cell_type": "code",
   "execution_count": 3,
   "metadata": {},
   "outputs": [],
   "source": [
    "# Endpoint que retorna todos os projetos de um determinado ano\n",
    "projetos_por_ano = '/ws/ws2.asmx/ProjetosPorAnoJSON?Ano='+ano\n",
    "\n",
    "# Endpoint que retorna os autores dos projetos\n",
    "projetos_autores = '/ws/ws2.asmx/ProjetosAutoresJSON'\n",
    "r = requests.get(url+projetos_por_ano)\n",
    "projetos_ano = r.json()"
   ]
  },
  {
   "cell_type": "code",
   "execution_count": 16,
   "metadata": {},
   "outputs": [],
   "source": [
    "TIPOS_PROJETOS = ('PDL','PL','PLO','PR')\n",
    "rows = []\n",
    "\n",
    "for projeto in projetos_ano:\n",
    "    projeto_filter_dict = {}\n",
    "    if projeto['tipo'] in TIPOS_PROJETOS:\n",
    "        tipo_projeto = projeto['tipo']\n",
    "        numero_projeto = projeto['numero']\n",
    "        ano_projeto = projeto['ano']\n",
    "\n",
    "        query = (f'{projetos_autores}?ano={ano_projeto}&tipo={tipo_projeto}&numero={numero_projeto}')\n",
    "        autores_projeto = requests.get(url+query)\n",
    "        autores_projeto_lista = autores_projeto.json()\n",
    "\n",
    "        for data_autores in autores_projeto_lista:\n",
    "            autores = data_autores['autores']\n",
    "            autor = {}\n",
    "            for autor in autores:\n",
    "                autor['Projeto'] = tipo_projeto+str(numero_projeto)+\"/\"+str(ano_projeto)\n",
    "                data_autores=datetime.strptime(projeto['data'][:10], \"%Y-%m-%d\")\n",
    "                autor['Data'] = \"{}/{}/{}\".format(data_autores.day,data_autores.month,data_autores.year)\n",
    "                autor['Nome Vereador'] = autor['nome']\n",
    "                autor['Ementa'] = projeto['ementa']\n",
    "                autor['Classificação'] = ''\n",
    "                autor.pop('nome') \n",
    "                autor.pop('chave') \n",
    "                rows.append(autor)"
   ]
  },
  {
   "cell_type": "code",
   "execution_count": 17,
   "metadata": {},
   "outputs": [],
   "source": [
    "# Utiliza os dados retornados na etapa anterior para construir uma planilha para cada vereador. \n",
    "# As planilhas serão salvas na pasta projetos propostos\n",
    "vereadores = {projeto['Nome Vereador'] for projeto in rows}\n",
    "\n",
    "for vereador in vereadores:\n",
    "    projeto_vereador = []\n",
    "    for projeto in rows:\n",
    "        if projeto['Nome Vereador'] == vereador:\n",
    "            projeto_vereador.append(projeto)\n",
    "    excel = ex.Excel(projeto_vereador,'projetos propostos')\n",
    "    sheet_name = 'sheet_name' \n",
    "    table_name = vereador+'.xlsx' \n",
    "    excel.make_table(table_name, sheet_name)"
   ]
  }
 ],
 "metadata": {
  "kernelspec": {
   "display_name": "Python 3.9.13 ('env': venv)",
   "language": "python",
   "name": "python3"
  },
  "language_info": {
   "codemirror_mode": {
    "name": "ipython",
    "version": 3
   },
   "file_extension": ".py",
   "mimetype": "text/x-python",
   "name": "python",
   "nbconvert_exporter": "python",
   "pygments_lexer": "ipython3",
   "version": "3.11.3"
  },
  "orig_nbformat": 4,
  "vscode": {
   "interpreter": {
    "hash": "6f97785fb71832f3c930c9d86d0e31a665203449458fda0b352089bc9d40fd7a"
   }
  }
 },
 "nbformat": 4,
 "nbformat_minor": 2
}
